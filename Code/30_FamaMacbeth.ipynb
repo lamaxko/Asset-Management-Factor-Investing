{
 "cells": [
  {
   "cell_type": "markdown",
   "metadata": {},
   "source": [
    "## <center>Fama Macbeth Regression</center>\n",
    "\n",
    "### <center>Get, Format and Check the Data</center>"
   ]
  },
  {
   "cell_type": "code",
   "execution_count": 1,
   "metadata": {},
   "outputs": [
    {
     "name": "stdout",
     "output_type": "stream",
     "text": [
      "Before Drop NA's\n",
      "RiskF First Date: 2006-07 Last Date: 2016-06 Shape: (120, 1)\n",
      "Portf First Date: 2006-07 Last Date: 2016-06 Shape: (120, 93)\n",
      "Factor First Date: 2001-07 Last Date: 2016-12 Shape: (186, 94) \n",
      "\n",
      "Columns not in both {'IHRT', 'EP', 'LU', 'BHI ', 'T'}\n",
      "Columns not in both set() \n",
      "\n",
      "After Drop NA's\n",
      "RiskF First Date: 2006-07 Last Date: 2016-06 Shape: (120, 1)\n",
      "Portf First Date: 2006-07 Last Date: 2016-06 Shape: (120, 88)\n",
      "Factor First Date: 2006-07-01 00:00:00 Last Date: 2016-06-01 00:00:00 Shape: (120, 94) \n",
      "\n",
      "              AXP        VZ\n",
      "Date                       \n",
      "2006-07 -0.019001  0.022239\n",
      "2006-08  0.009219  0.040212\n",
      "2006-09  0.067378  0.055430\n",
      "2006-10  0.033583  0.007432\n",
      "2006-11  0.015741 -0.019984 \n",
      "\n",
      "         Mkt-RF     SMB     HML      RF\n",
      "Date                                   \n",
      "2006-07 -0.0078 -0.0398  0.0260  0.0040\n",
      "2006-08  0.0203  0.0103 -0.0206  0.0042\n",
      "2006-09  0.0184 -0.0136  0.0008  0.0041\n",
      "2006-10  0.0323  0.0175 -0.0031  0.0041\n",
      "2006-11  0.0171  0.0070  0.0014  0.0042\n"
     ]
    }
   ],
   "source": [
    "from helpers import *\n",
    "\n",
    "returns_portfolio = pd.read_excel('data/NewBloomMonthlyReturns.xlsx', index_col=0, parse_dates=True)\n",
    "factor_data = pd.read_excel('data_copulas/bloom_Factor_UpsideRatio.xlsx', index_col=0, parse_dates=True)\n",
    "no_lag_factor_data = factor_data.loc['2006-07-01':'2016-06-01']\n",
    "\n",
    "fama_french_3_factor = pd.read_excel('data/FF_RF.xlsx', index_col=0, parse_dates=True)\n",
    "fama_french_3_factor = fama_french_3_factor / 100\n",
    "\n",
    "mkt_rf = fama_french_3_factor[['Mkt-RF']]\n",
    "risk_free_rate = fama_french_3_factor[['RF']]\n",
    "\n",
    "returns_portfolio.index = returns_portfolio.index.to_period('M')\n",
    "risk_free_rate.index = risk_free_rate.index.to_period('M')\n",
    "mkt_rf.index = mkt_rf.index.to_period('M')\n",
    "fama_french_3_factor.index = fama_french_3_factor.index.to_period('M')\n",
    "factor_data.index = factor_data.index.to_period('M')\n",
    "\n",
    "print(\"Before Drop NA's\")\n",
    "print_checks_01(returns_portfolio, risk_free_rate, factor_data)\n",
    "\n",
    "# Drop NA's\n",
    "#returns_portfolio = returns_portfolio.dropna(axis=1, how='any')\n",
    "#no_lag_factor_data = factor_data.dropna(axis=1, how='any')\n",
    "\n",
    "# Drop columns which are not in both\n",
    "print('Columns not in both', set(returns_portfolio.columns).difference(set(no_lag_factor_data.columns)))\n",
    "returns_portfolio = returns_portfolio.drop(columns=set(returns_portfolio.columns).difference(set(no_lag_factor_data.columns)))\n",
    "factor_data = factor_data.drop(columns=set(factor_data.columns).difference(set(returns_portfolio.columns)))\n",
    "print('Columns not in both', set(returns_portfolio.columns).difference(set(no_lag_factor_data.columns)), '\\n')\n",
    "\n",
    "print(\"After Drop NA's\")\n",
    "print_checks_01(returns_portfolio, risk_free_rate, no_lag_factor_data)\n",
    "\n",
    "# Check if returns and Rf have same decimal format side by side\n",
    "print(returns_portfolio.iloc[:, :2].head(), '\\n')\n",
    "print(fama_french_3_factor.head())"
   ]
  },
  {
   "cell_type": "markdown",
   "metadata": {},
   "source": [
    "### <center>Run First Time Series Regression to get Betas</center>\n",
    "\n",
    "$$\n",
    "r_t^i - r_{ft} = \\gamma_i + \\beta_i (r_t^m - r_{f})_{t} + \\epsilon_{it}\n",
    "$$"
   ]
  },
  {
   "cell_type": "code",
   "execution_count": 2,
   "metadata": {},
   "outputs": [
    {
     "name": "stdout",
     "output_type": "stream",
     "text": [
      "         Beta\n",
      "AXP  1.643379\n",
      "VZ    0.49434\n",
      "BA   1.173218\n",
      "BMY  0.580915\n",
      "KO   0.532254\n"
     ]
    }
   ],
   "source": [
    "excess_returns = returns_portfolio.subtract(risk_free_rate['RF'], axis=0)\n",
    "\n",
    "# Prepare an empty DataFrame to store the betas\n",
    "betas = pd.DataFrame(index=excess_returns.columns, columns=['Beta'])\n",
    "\n",
    "for stock in excess_returns.columns:\n",
    "    # Filter the periods where the stock has valid returns (i.e., not NA)\n",
    "    active_periods = excess_returns[stock].dropna().index\n",
    "    if len(active_periods) > 0:\n",
    "        # Prepare the dataset for regression\n",
    "        y = excess_returns.loc[active_periods, stock]\n",
    "        X = mkt_rf.loc[active_periods]\n",
    "        X = sm.add_constant(X)\n",
    "\n",
    "        # Run the regression\n",
    "        model = sm.OLS(y, X).fit()\n",
    "        betas.loc[stock, 'Beta'] = model.params['Mkt-RF']\n",
    "\n",
    "print(betas.head())\n"
   ]
  },
  {
   "cell_type": "markdown",
   "metadata": {},
   "source": [
    "### <center>Run Second Cross Sectional Regression obtain Gammas</center>\n",
    "\n",
    "$$\n",
    "r_i^t - r_{ft} = \\lambda_1^t + \\lambda_2^t \\beta_i + \\lambda_3^t \\text{(Upside Ratio)}_i^t + \\alpha_{it}\n",
    "$$"
   ]
  },
  {
   "cell_type": "code",
   "execution_count": 3,
   "metadata": {},
   "outputs": [
    {
     "name": "stdout",
     "output_type": "stream",
     "text": [
      "          Gamma 0   Gamma 1   Gamma 2\n",
      "Date                                 \n",
      "2006-07   0.01195 -0.026879  0.017181\n",
      "2006-08 -0.023672  0.008214  0.034952\n",
      "2006-09 -0.022466  0.007116  0.041331\n",
      "2006-10  0.017982  0.010901  0.008512\n",
      "2006-11  0.001658  0.006414  0.005495\n"
     ]
    }
   ],
   "source": [
    "import pandas as pd\n",
    "import numpy as np\n",
    "import statsmodels.api as sm\n",
    "\n",
    "# Assuming returns_portfolio, risk_free_rate, mkt_rf, factor_data, and betas are already defined\n",
    "\n",
    "# Calculate excess returns\n",
    "excess_returns = returns_portfolio.subtract(risk_free_rate['RF'], axis=0)\n",
    "\n",
    "# Prepare an empty DataFrame to store the gammas\n",
    "gammas = pd.DataFrame(index=excess_returns.index, columns=['Gamma 0', 'Gamma 1', 'Gamma 2'])\n",
    "\n",
    "for month in excess_returns.index:\n",
    "    # Filter the periods where stocks have valid returns (i.e., not NA)\n",
    "    Y = excess_returns.loc[month].dropna()\n",
    "    \n",
    "    if Y.empty:\n",
    "        continue\n",
    "    \n",
    "    X1 = betas.loc[Y.index].astype(float)\n",
    "    \n",
    "    # Ensure the factor data is correctly aligned and transformed\n",
    "    factor_data_x2 = factor_data.loc[[month]].astype(float)\n",
    "    X2 = factor_data_x2.T\n",
    "    X2.columns = ['Factor']\n",
    "    \n",
    "    # Align Y and X1 to ensure they have the same index\n",
    "    Y = Y.loc[Y.index.intersection(X1.index).intersection(X2.index)]\n",
    "    X1 = X1.loc[Y.index]\n",
    "    X2 = X2.loc[Y.index]\n",
    "\n",
    "    if not X1.empty and not X2.empty:\n",
    "        X = sm.add_constant(pd.concat([X1, X2], axis=1))\n",
    "        \n",
    "        # Check for inf or NaN values and drop them\n",
    "        X = X.replace([np.inf, -np.inf], np.nan).dropna()\n",
    "        Y = Y.loc[X.index]\n",
    "        \n",
    "        if not X.empty and not Y.empty:\n",
    "            model = sm.OLS(Y, X).fit()\n",
    "            \n",
    "            gammas.loc[month, 'Gamma 0'] = model.params.get('const', np.nan)\n",
    "            gammas.loc[month, 'Gamma 1'] = model.params.get('Beta', np.nan)\n",
    "            gammas.loc[month, 'Gamma 2'] = model.params.get('Factor', np.nan)\n",
    "\n",
    "print(gammas.head())\n"
   ]
  },
  {
   "cell_type": "markdown",
   "metadata": {},
   "source": [
    "### <center>Plot Gammas for Beta and Upside Ratio</center>"
   ]
  },
  {
   "cell_type": "code",
   "execution_count": 4,
   "metadata": {},
   "outputs": [
    {
     "data": {
      "image/png": "[encoded data removed]",
      "text/plain": [
       "<Figure size 1000x1000 with 2 Axes>"
      ]
     },
     "metadata": {},
     "output_type": "display_data"
    }
   ],
   "source": [
    "plot_gamma_histograms(gammas)"
   ]
  },
  {
   "cell_type": "markdown",
   "metadata": {},
   "source": [
    "### <center>Obtain Final Gammas with T-Statistic and P-Test</center>"
   ]
  },
  {
   "cell_type": "code",
   "execution_count": 5,
   "metadata": {},
   "outputs": [
    {
     "name": "stderr",
     "output_type": "stream",
     "text": [
      "/var/folders/2_/86b4jc217ysdc4kf9wj_zbgh0000gn/T/ipykernel_3700/1779570993.py:31: FutureWarning: Styler.applymap has been deprecated. Use Styler.map instead.\n",
      "  }).applymap(\n"
     ]
    },
    {
     "data": {
      "text/html": [
       "<style type=\"text/css\">\n",
       "#T_59ae8 th {\n",
       "  font-size: 12pt;\n",
       "  background-color: lightgrey;\n",
       "  color: black;\n",
       "  border-color: white;\n",
       "}\n",
       "#T_59ae8_row0_col0, #T_59ae8_row0_col1, #T_59ae8_row0_col2, #T_59ae8_row0_col3, #T_59ae8_row1_col0, #T_59ae8_row1_col1, #T_59ae8_row1_col2, #T_59ae8_row1_col3 {\n",
       "  background-color: white;\n",
       "  color: black;\n",
       "  border: 1px solid black;\n",
       "}\n",
       "</style>\n",
       "<table id=\"T_59ae8\">\n",
       "  <thead>\n",
       "    <tr>\n",
       "      <th class=\"blank level0\" >&nbsp;</th>\n",
       "      <th id=\"T_59ae8_level0_col0\" class=\"col_heading level0 col0\" >Parameter</th>\n",
       "      <th id=\"T_59ae8_level0_col1\" class=\"col_heading level0 col1\" >Mean</th>\n",
       "      <th id=\"T_59ae8_level0_col2\" class=\"col_heading level0 col2\" >T-Statistic</th>\n",
       "      <th id=\"T_59ae8_level0_col3\" class=\"col_heading level0 col3\" >P-Value</th>\n",
       "    </tr>\n",
       "  </thead>\n",
       "  <tbody>\n",
       "    <tr>\n",
       "      <th id=\"T_59ae8_level0_row0\" class=\"row_heading level0 row0\" >0</th>\n",
       "      <td id=\"T_59ae8_row0_col0\" class=\"data row0 col0\" >Gamma 1</td>\n",
       "      <td id=\"T_59ae8_row0_col1\" class=\"data row0 col1\" >-0.002601</td>\n",
       "      <td id=\"T_59ae8_row0_col2\" class=\"data row0 col2\" >-0.4179</td>\n",
       "      <td id=\"T_59ae8_row0_col3\" class=\"data row0 col3\" >0.6768</td>\n",
       "    </tr>\n",
       "    <tr>\n",
       "      <th id=\"T_59ae8_level0_row1\" class=\"row_heading level0 row1\" >1</th>\n",
       "      <td id=\"T_59ae8_row1_col0\" class=\"data row1 col0\" >Gamma 2</td>\n",
       "      <td id=\"T_59ae8_row1_col1\" class=\"data row1 col1\" >-0.000644</td>\n",
       "      <td id=\"T_59ae8_row1_col2\" class=\"data row1 col2\" >-0.1366</td>\n",
       "      <td id=\"T_59ae8_row1_col3\" class=\"data row1 col3\" >0.8916</td>\n",
       "    </tr>\n",
       "  </tbody>\n",
       "</table>\n"
      ],
      "text/plain": [
       "<pandas.io.formats.style.Styler at 0x138410e90>"
      ]
     },
     "metadata": {},
     "output_type": "display_data"
    }
   ],
   "source": [
    "# Clean\n",
    "gammas['Gamma 1'] = pd.to_numeric(gammas['Gamma 1'], errors='coerce')\n",
    "gammas['Gamma 2'] = pd.to_numeric(gammas['Gamma 2'], errors='coerce')\n",
    "\n",
    "# Calculate means\n",
    "mean_gamma1 = gammas['Gamma 1'].mean()\n",
    "mean_gamma2 = gammas['Gamma 2'].mean()\n",
    "\n",
    "# Perform t-tests\n",
    "t_test_gamma1 = stats.ttest_1samp(gammas['Gamma 1'], 0)\n",
    "t_test_gamma2 = stats.ttest_1samp(gammas['Gamma 2'], 0)\n",
    "\n",
    "summary_results_data = {\n",
    "    \"Parameter\": [\"Gamma 1\", \"Gamma 2\"],\n",
    "    \"Mean\": [mean_gamma1, mean_gamma2],\n",
    "    \"T-Statistic\": [t_test_gamma1.statistic, t_test_gamma2.statistic],\n",
    "    \"P-Value\": [t_test_gamma1.pvalue, t_test_gamma2.pvalue]\n",
    "}\n",
    "\n",
    "summary_results_df = pd.DataFrame(summary_results_data)\n",
    "\n",
    "styled_df = summary_results_df.style.set_table_styles(\n",
    "    [{\n",
    "        'selector': 'th',\n",
    "        'props': [('font-size', '12pt'), ('background-color', 'lightgrey'), ('color', 'black'), ('border-color', 'white')]\n",
    "    }]\n",
    ").set_properties(**{\n",
    "    'background-color': 'white',\n",
    "    'color': 'black',\n",
    "    'border': '1px solid black'\n",
    "}).applymap(\n",
    "    lambda x: 'font-weight: bold' if isinstance(x, float) and x < 0.05 else '',\n",
    "    subset=['P-Value']\n",
    ").format({\n",
    "    'Mean': \"{:.6f}\",\n",
    "    'T-Statistic': \"{:.4f}\",\n",
    "    'P-Value': \"{:.4f}\"\n",
    "})\n",
    "\n",
    "display(styled_df)"
   ]
  },
  {
   "cell_type": "markdown",
   "metadata": {},
   "source": [
    "### <center>Gamma Values and Distribution Interpretation</center>\n",
    "\n",
    "**Gamma 1 (Coefficient for Beta)**\n",
    "- **Mean:** -0.002601\n",
    "- **T-Statistic:** -0.4179\n",
    "- **P-Value:** 0.6768\n",
    "\n",
    "**Interpretation:**\n",
    "Gamma 1's slightly negative mean and its distribution centered around zero indicate a negligible influence of market beta on excess returns. The insignificance, confirmed by a high P-value, suggests that the value is not statistically significantly different from zero. Hence, there is no consistent impact of market beta across the analyzed months.\n",
    "\n",
    "**Gamma 2 (Coefficient of Upside Ratio Factor)**\n",
    "- **Mean:** -0.000644\n",
    "- **T-Statistic:** -0.1366\n",
    "- **P-Value:** 0.8916\n",
    "\n",
    "**Interpretation:**\n",
    "Gamma 2 shows a slightly negative mean, suggesting a potential negligible impact of the investment strategy on excess returns. However, the effect is not statistically significant across the sample period, as indicated by the high P-value. The distribution supports this, with values clustering around zero, lacking consistent statistical backing.\n",
    "\n",
    "### <center>Conclusion</center>\n",
    "Both Gamma 1 and Gamma 2 distributions reflect considerable variability with most values clustering near zero, indicating no strong, consistent influence from either market beta or the investment strategy factor. While individual months might display significant relationships, these do not aggregate into a reliable pattern over the sample period, underscoring the complex dynamics at play in predicting excess returns through these variables."
   ]
  }
 ],
 "metadata": {
  "kernelspec": {
   "display_name": "Python 3",
   "language": "python",
   "name": "python3"
  },
  "language_info": {
   "codemirror_mode": {
    "name": "ipython",
    "version": 3
   },
   "file_extension": ".py",
   "mimetype": "text/x-python",
   "name": "python",
   "nbconvert_exporter": "python",
   "pygments_lexer": "ipython3",
   "version": "3.11.4"
  }
 },
 "nbformat": 4,
 "nbformat_minor": 2
}
